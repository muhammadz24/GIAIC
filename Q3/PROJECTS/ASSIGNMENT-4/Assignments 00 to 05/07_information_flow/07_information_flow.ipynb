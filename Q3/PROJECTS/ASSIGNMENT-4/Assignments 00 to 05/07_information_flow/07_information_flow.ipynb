{
  "nbformat": 4,
  "nbformat_minor": 0,
  "metadata": {
    "colab": {
      "provenance": []
    },
    "kernelspec": {
      "name": "python3",
      "display_name": "Python 3"
    },
    "language_info": {
      "name": "python"
    }
  },
  "cells": [
    {
      "cell_type": "code",
      "execution_count": 3,
      "metadata": {
        "colab": {
          "base_uri": "https://localhost:8080/"
        },
        "id": "NkOPtrlbWcYs",
        "outputId": "9f17b046-b3ff-414e-ea40-64615a6e9a2d"
      },
      "outputs": [
        {
          "output_type": "stream",
          "name": "stdout",
          "text": [
            "00_choosing_returns\n",
            "Choose one of the following options: A, B, C\n",
            "Enter your choice: → C\n",
            "You chose option C\n"
          ]
        }
      ],
      "source": [
        "print(\"00_choosing_returns\")\n",
        "\n",
        "def choose_return(option):\n",
        "    if option == \"A\":\n",
        "        return \"You chose option A\"\n",
        "    elif option == \"B\":\n",
        "        return \"You chose option B\"\n",
        "    elif option == \"C\":\n",
        "        return \"You chose option C\"\n",
        "    else:\n",
        "        return \"Invalid option. Please choose A, B, or C.\"\n",
        "\n",
        "def main():\n",
        "    print(\"Choose one of the following options: A, B, C\")\n",
        "    option = input(\"Enter your choice: → \")\n",
        "\n",
        "    result = choose_return(option)\n",
        "    print(result)\n",
        "\n",
        "if __name__ == \"__main__\":\n",
        "    main()\n"
      ]
    },
    {
      "cell_type": "code",
      "source": [
        "print(\"01_greetings\")\n",
        "\n",
        "def greet(name):\n",
        "    return f\"Hello, {name}! Welcome to the program.\"\n",
        "\n",
        "def main():\n",
        "    name = input(\"Please enter your name: → \")\n",
        "    greeting_message = greet(name)\n",
        "    print(greeting_message)\n",
        "\n",
        "if __name__ == \"__main__\":\n",
        "    main()\n"
      ],
      "metadata": {
        "colab": {
          "base_uri": "https://localhost:8080/"
        },
        "id": "2fAFAggpXBZq",
        "outputId": "d2fb2f32-9c3d-4316-a58d-907e22f936cf"
      },
      "execution_count": 4,
      "outputs": [
        {
          "output_type": "stream",
          "name": "stdout",
          "text": [
            "01_greetings\n",
            "Please enter your name: → MZ\n",
            "Hello, MZ! Welcome to the program.\n"
          ]
        }
      ]
    },
    {
      "cell_type": "code",
      "source": [
        "print(\"02_in_range\")\n",
        "\n",
        "def is_in_range(number, start, end):\n",
        "    if start <= number <= end:\n",
        "        return True\n",
        "    else:\n",
        "        return False\n",
        "\n",
        "def main():\n",
        "    try:\n",
        "        num = int(input(\"🔢 Enter a number: → \"))\n",
        "        start = int(input(\"Enter the start of the range: → \"))\n",
        "        end = int(input(\"Enter the end of the range: → \"))\n",
        "    except ValueError:\n",
        "        print(\"❌ Please enter valid integers.\")\n",
        "        return\n",
        "\n",
        "    if is_in_range(num, start, end):\n",
        "        print(f\"✅ {num} is within the range of {start} and {end}.\")\n",
        "    else:\n",
        "        print(f\"❌ {num} is not within the range of {start} and {end}.\")\n",
        "\n",
        "if __name__ == \"__main__\":\n",
        "    main()\n"
      ],
      "metadata": {
        "colab": {
          "base_uri": "https://localhost:8080/"
        },
        "id": "pwi0-nA_XPrp",
        "outputId": "8dbb032b-899f-4207-ede3-6a3049a22ff0"
      },
      "execution_count": 5,
      "outputs": [
        {
          "output_type": "stream",
          "name": "stdout",
          "text": [
            "02_in_range\n",
            "🔢 Enter a number: → 10\n",
            "Enter the start of the range: → 10\n",
            "Enter the end of the range: → 20\n",
            "✅ 10 is within the range of 10 and 20.\n"
          ]
        }
      ]
    },
    {
      "cell_type": "code",
      "source": [
        "print(\"03_in_stock\")\n",
        "\n",
        "def is_in_stock(product, stock):\n",
        "    if product in stock and stock[product] > 0:\n",
        "        return True\n",
        "    else:\n",
        "        return False\n",
        "\n",
        "def main():\n",
        "    stock = {\n",
        "        \"apple\": 10,\n",
        "        \"banana\": 0,\n",
        "        \"orange\": 5,\n",
        "        \"grapes\": 2\n",
        "    }\n",
        "\n",
        "    product = input(\"Enter the product name to check its stock: → \").lower()\n",
        "\n",
        "    if is_in_stock(product, stock):\n",
        "        print(f\"✅ {product.capitalize()} is in stock!\")\n",
        "    else:\n",
        "        print(f\"❌ {product.capitalize()} is not in stock.\")\n",
        "\n",
        "if __name__ == \"__main__\":\n",
        "    main()\n"
      ],
      "metadata": {
        "colab": {
          "base_uri": "https://localhost:8080/"
        },
        "id": "A-Xys9LBXb4X",
        "outputId": "974497b9-102d-4ec1-d9dd-6952b3341b9c"
      },
      "execution_count": 6,
      "outputs": [
        {
          "output_type": "stream",
          "name": "stdout",
          "text": [
            "03_in_stock\n",
            "Enter the product name to check its stock: → ORANGE\n",
            "✅ Orange is in stock!\n"
          ]
        }
      ]
    },
    {
      "cell_type": "code",
      "source": [
        "print(\"04_multiple_returns\")\n",
        "\n",
        "import math\n",
        "\n",
        "def analyze_number(number):\n",
        "    square = number ** 2\n",
        "    cube = number ** 3\n",
        "    square_root = math.sqrt(number)\n",
        "\n",
        "    return square, cube, square_root\n",
        "\n",
        "def main():\n",
        "    try:\n",
        "        num = float(input(\"🔢 Enter a number: → \"))\n",
        "    except ValueError:\n",
        "        print(\"❌ Please enter a valid number.\")\n",
        "        return\n",
        "\n",
        "    square, cube, square_root = analyze_number(num)\n",
        "\n",
        "    print(f\"✅ The square of {num} is: {square}\")\n",
        "    print(f\"✅ The cube of {num} is: {cube}\")\n",
        "    print(f\"✅ The square root of {num} is: {square_root:.2f}\")\n",
        "\n",
        "if __name__ == \"__main__\":\n",
        "    main()\n"
      ],
      "metadata": {
        "colab": {
          "base_uri": "https://localhost:8080/"
        },
        "id": "C4RhToOHXg9R",
        "outputId": "4722564a-c654-42a8-e6cc-77e8b37fbb50"
      },
      "execution_count": 8,
      "outputs": [
        {
          "output_type": "stream",
          "name": "stdout",
          "text": [
            "04_multiple_returns\n",
            "🔢 Enter a number: → 45\n",
            "✅ The square of 45.0 is: 2025.0\n",
            "✅ The cube of 45.0 is: 91125.0\n",
            "✅ The square root of 45.0 is: 6.71\n"
          ]
        }
      ]
    },
    {
      "cell_type": "code",
      "source": [
        "print(\"05_subtract_7\")\n",
        "\n",
        "def subtract_seven(number):\n",
        "    return number - 7\n",
        "\n",
        "def main():\n",
        "    try:\n",
        "        num = float(input(\"🔢 Enter a number: → \"))\n",
        "    except ValueError:\n",
        "        print(\"❌ Please enter a valid number.\")\n",
        "        return\n",
        "\n",
        "    result = subtract_seven(num)\n",
        "    print(f\" After subtracting 7, the result is: {result}\")\n",
        "\n",
        "if __name__ == \"__main__\":\n",
        "    main()\n"
      ],
      "metadata": {
        "colab": {
          "base_uri": "https://localhost:8080/"
        },
        "id": "t16uiHGHXsNN",
        "outputId": "d6dfd45d-497f-4afb-84c8-07580a58251a"
      },
      "execution_count": 11,
      "outputs": [
        {
          "output_type": "stream",
          "name": "stdout",
          "text": [
            "05_subtract_7\n",
            "🔢 Enter a number: → 88\n",
            " After subtracting 7, the result is: 81.0\n"
          ]
        }
      ]
    }
  ]
}