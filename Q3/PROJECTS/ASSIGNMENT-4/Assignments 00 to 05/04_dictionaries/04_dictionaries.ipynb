{
  "nbformat": 4,
  "nbformat_minor": 0,
  "metadata": {
    "colab": {
      "provenance": []
    },
    "kernelspec": {
      "name": "python3",
      "display_name": "Python 3"
    },
    "language_info": {
      "name": "python"
    }
  },
  "cells": [
    {
      "cell_type": "code",
      "execution_count": null,
      "metadata": {
        "colab": {
          "base_uri": "https://localhost:8080/"
        },
        "id": "ZkPGoKBmuRUs",
        "outputId": "ba8e848d-e195-4ae5-900a-946723fe1d68"
      },
      "outputs": [
        {
          "output_type": "stream",
          "name": "stdout",
          "text": [
            "00_count_nums\n",
            "Enter a number (or 'Exit' to quit): 5\n",
            "{5: 1}\n",
            "Enter a number (or 'Exit' to quit): 6\n",
            "{5: 1, 6: 1}\n",
            "Enter a number (or 'Exit' to quit): 5\n",
            "{5: 2, 6: 1}\n",
            "Enter a number (or 'Exit' to quit): 44\n",
            "{5: 2, 6: 1, 44: 1}\n",
            "Enter a number (or 'Exit' to quit): 69\n",
            "{5: 2, 6: 1, 44: 1, 69: 1}\n",
            "Enter a number (or 'Exit' to quit): 4545\n",
            "{5: 2, 6: 1, 44: 1, 69: 1, 4545: 1}\n",
            "Enter a number (or 'Exit' to quit): exit\n",
            "Invalid input. Please enter a number or 'Exit'.\n",
            "\n",
            " Number Counts:\n",
            "5 appears 2 times\n",
            "6 appears 1 times\n",
            "44 appears 1 times\n",
            "69 appears 1 times\n",
            "4545 appears 1 times\n"
          ]
        }
      ],
      "source": [
        "print(\"00_count_nums\")\n",
        "\n",
        "def count_numbers():\n",
        "  count_dict = {}\n",
        "\n",
        "  while True:\n",
        "    num = input(\"Enter a number (or 'Exit' to quit): \")\n",
        "    if num.lower() == 'Exit':\n",
        "      break\n",
        "    if num.isdigit():\n",
        "      num = int(num)\n",
        "      count_dict[num] = count_dict.get(num, 0) + 1\n",
        "      print(count_dict)\n",
        "    else:\n",
        "      print(\"Invalid input. Please enter a number or 'Exit'.\")\n",
        "      return count_dict\n",
        "\n",
        "def display_counts(count_dict):\n",
        "  print(\"\\n Number Counts:\")\n",
        "  for key,value in count_dict.items():\n",
        "      print(f'{key} appears {value} times')\n",
        "\n",
        "\n",
        "if __name__ == \"__main__\":\n",
        "  count = count_numbers()\n",
        "  display_counts(count)"
      ]
    },
    {
      "cell_type": "code",
      "source": [
        "print(\"01_phonebook\")\n",
        "\n",
        "def add_contact(phonebook):\n",
        "  name = input(\"Enter contact name: \")\n",
        "  number = input(\"Enter contact number: \")\n",
        "\n",
        "  if name in phonebook:\n",
        "    print(f\"{name} already exists in the phonebook.\")\n",
        "  else:\n",
        "    phonebook[name] = number\n",
        "    print(f\"{name} added to the phonebook.\")\n",
        "\n",
        "def search_contact(phonebook):\n",
        "  name = input(\"Enter contact name to search: \")\n",
        "\n",
        "  if name in phonebook:\n",
        "    print(f\"{name}': {phonebook[name]}.\")\n",
        "  else:\n",
        "    print(f\"{name} not found in the phonebook.\")\n",
        "\n",
        "\n",
        "def delete_contact(phonebook):\n",
        "  name = input(\"Enter contact name to delete: \")\n",
        "\n",
        "  if name in phonebook:\n",
        "    del phonebook[name]\n",
        "    print(f\"{name} deleted from the phonebook.\")\n",
        "  else:\n",
        "    print(f\"{name} not found in the phonebook.\")\n",
        "\n",
        "\n",
        "\n",
        "\n",
        "\n",
        "def display_phonebook(phonebook):\n",
        "  if phonebook:\n",
        "    print(\"\\nPhonebook Contact List:\")\n",
        "    for name, number in phonebook.items():\n",
        "      print(f\"{name}: {number}\")\n",
        "  else:\n",
        "    print(\"Phonebook is empty.\")\n",
        "\n",
        "\n",
        "if __name__ == \"__main__\":\n",
        "  phonebook = {}\n",
        "  while True:\n",
        "    print(\"\\nPhonebook Menu:\")\n",
        "    print(\"1. Add Contact\")\n",
        "    print(\"2. Search Contact\")\n",
        "    print(\"3. Delete Contact\")\n",
        "    print(\"4. Display Phonebook\")\n",
        "    print(\"5. Exit\")\n",
        "\n",
        "\n",
        "    choice = input(\"Enter your choice (1-5): \")\n",
        "    if choice == '1':\n",
        "      add_contact(phonebook)\n",
        "    elif choice == '2':\n",
        "      search_contact(phonebook)\n",
        "    elif choice == '3':\n",
        "      delete_contact(phonebook)\n",
        "    elif choice == '4':\n",
        "      display_phonebook(phonebook)\n",
        "    elif choice == '5':\n",
        "      print(\"Exiting the phonebook. Goodbye!\")\n",
        "      break\n",
        "    else:\n",
        "      print(\"Invalid choice. Please enter a number between 1 and 5.\")\n",
        "\n",
        "\n"
      ],
      "metadata": {
        "colab": {
          "base_uri": "https://localhost:8080/"
        },
        "id": "9rMzgUB-ao96",
        "outputId": "0aea72e0-e87b-46d2-d4d8-3a5f3227fdbb"
      },
      "execution_count": null,
      "outputs": [
        {
          "output_type": "stream",
          "name": "stdout",
          "text": [
            "01_phonebook\n",
            "\n",
            "Phonebook Menu:\n",
            "1. Add Contact\n",
            "2. Search Contact\n",
            "3. Delete Contact\n",
            "4. Display Phonebook\n",
            "5. Exit\n",
            "Enter your choice (1-5): 1\n",
            "Enter contact name: muhammad\n",
            "Enter contact number: 03219959901\n",
            "muhammad added to the phonebook.\n",
            "\n",
            "Phonebook Menu:\n",
            "1. Add Contact\n",
            "2. Search Contact\n",
            "3. Delete Contact\n",
            "4. Display Phonebook\n",
            "5. Exit\n",
            "Enter your choice (1-5): 3\n",
            "Enter contact name to delete: muhammad\n",
            "muhammad deleted from the phonebook.\n",
            "\n",
            "Phonebook Menu:\n",
            "1. Add Contact\n",
            "2. Search Contact\n",
            "3. Delete Contact\n",
            "4. Display Phonebook\n",
            "5. Exit\n",
            "Enter your choice (1-5): 5\n",
            "Exiting the phonebook. Goodbye!\n"
          ]
        }
      ]
    },
    {
      "cell_type": "code",
      "source": [
        "print(\"02_pop_up_shop\")\n",
        "\n",
        "def calculate_total_cost():\n",
        "  fruits_price = {\n",
        "      \"apple\" : 5.0,\n",
        "      \"mango\" : 15.0,\n",
        "      \"kiwi\" : 8.0,\n",
        "      \"pear\" : 12.0,\n",
        "      \"banana\": 6.0,\n",
        "      \"orange\" : 10.0\n",
        "  }\n",
        "\n",
        "\n",
        "  total_cost = 0\n",
        "  for fruit,price in fruits_price.items():\n",
        "    while True :\n",
        "      try:\n",
        "        quantity = int(input(f'How many {fruit} do you want?:'))\n",
        "        if quantity < 0:\n",
        "          print(\"Invalid input. Please enter a non-negative number.\")\n",
        "          continue\n",
        "        total_cost += price * quantity\n",
        "        break\n",
        "\n",
        "      except ValueError:\n",
        "        print(\"Invalid input. Please enter a valid number.\")\n",
        "\n",
        "    print(f'\\n Your Total Cost is: ${total_cost:.2f}')\n",
        "\n",
        "if __name__ == \"__main__\":\n",
        "  calculate_total_cost()\n",
        "\n"
      ],
      "metadata": {
        "colab": {
          "base_uri": "https://localhost:8080/"
        },
        "id": "bnJM6SVVLRDT",
        "outputId": "61420b0f-45cd-45fd-e690-7c594eb6dbfe"
      },
      "execution_count": null,
      "outputs": [
        {
          "output_type": "stream",
          "name": "stdout",
          "text": [
            "02_pop_up_shop\n",
            "How many apple do you want?:6\n",
            "\n",
            " Your Total Cost is: $30.00\n",
            "How many mango do you want?:5\n",
            "\n",
            " Your Total Cost is: $105.00\n",
            "How many kiwi do you want?:9\n",
            "\n",
            " Your Total Cost is: $177.00\n",
            "How many pear do you want?:3\n",
            "\n",
            " Your Total Cost is: $213.00\n",
            "How many banana do you want?:12\n",
            "\n",
            " Your Total Cost is: $285.00\n",
            "How many orange do you want?:5\n",
            "\n",
            " Your Total Cost is: $335.00\n"
          ]
        }
      ]
    },
    {
      "cell_type": "code",
      "source": [
        "import hashlib\n",
        "\n",
        "print(\"03_powerful_passwords\")\n",
        "\n",
        "def hash_password(password):\n",
        "  return hashlib.sha256(password.encode()).hexdigest()\n",
        "\n",
        "stored_logins = {\n",
        "    \"user@example.com\": hash_password(\"password123\"),\n",
        "    \"admin@example.com\": hash_password(\"adminpass\"),\n",
        "}\n",
        "\n",
        "def login(email,password):\n",
        "  if email in stored_logins:\n",
        "    return stored_logins[email] == hash_password(password)\n",
        "  else:\n",
        "    return False\n",
        "\n",
        "if __name__ == \"__main__\":\n",
        "  email = input(\"Enter your email: \")\n",
        "  password = input(\"Enter your password: \")\n",
        "\n",
        "  if login(email,password):\n",
        "    print(\"Login successful!\")\n",
        "  else:\n",
        "    print(\"Invalid email or password.\")\n",
        "\n"
      ],
      "metadata": {
        "colab": {
          "base_uri": "https://localhost:8080/"
        },
        "id": "npv8_YebifhK",
        "outputId": "9ceccbf9-032f-4520-acc8-479fb3bec042"
      },
      "execution_count": null,
      "outputs": [
        {
          "output_type": "stream",
          "name": "stdout",
          "text": [
            "03_powerful_passwords\n",
            "Enter your email: user@example.com\n",
            "Enter your password: password123\n",
            "Login successful!\n"
          ]
        }
      ]
    }
  ]
}